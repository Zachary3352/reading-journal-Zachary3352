{
 "cells": [
  {
   "cell_type": "markdown",
   "metadata": {},
   "source": [
    "# Day 3 Reading Journal\n",
    "\n",
    "This journal includes several required exercises, but it is meant to encourage active reading more generally.  You may use the journal to take detailed notes, catalog questions, and explore the content from Think Python deeply.\n",
    "\n",
    "Reading: Think Python Chapter 8, 10.1-10.6"
   ]
  },
  {
   "cell_type": "markdown",
   "metadata": {},
   "source": [
    "## [Chapter 8](http://www.greenteapress.com/thinkpython2/html/thinkpython2009.html)\n",
    "\n",
    "Note: the exercise numbers below match up with the reading for ease of cross referencing."
   ]
  },
  {
   "cell_type": "markdown",
   "metadata": {},
   "source": [
    "### Chapter 8.3  \n",
    "\n",
    "Write a function that takes a string as an argument and displays the letters backward, one per line."
   ]
  },
  {
   "cell_type": "code",
   "execution_count": 52,
   "metadata": {},
   "outputs": [
    {
     "name": "stdout",
     "output_type": "stream",
     "text": [
      "e\n",
      "s\n",
      "e\n",
      "e\n",
      "h\n",
      "c\n",
      "g\n",
      "n\n",
      "i\n",
      "r\n",
      "t\n",
      "s\n"
     ]
    }
   ],
   "source": [
    "input = \"stringcheese\"\n",
    "\n",
    "index = len(input) - 1\n",
    "while index >= 0:\n",
    "    letter = input[index]\n",
    "    print(letter)\n",
    "    index = index - 1"
   ]
  },
  {
   "cell_type": "markdown",
   "metadata": {},
   "source": [
    "### Chapter 8.4\n",
    "\n",
    "Write a function that translates words into [Pig Latin](https://en.wikipedia.org/wiki/Pig_Latin). You need not handle special cases like vowels."
   ]
  },
  {
   "cell_type": "code",
   "execution_count": 12,
   "metadata": {},
   "outputs": [
    {
     "name": "stdout",
     "output_type": "stream",
     "text": [
      "iendlyfray\n"
     ]
    }
   ],
   "source": [
    "word = \"friendly\"\n",
    "\n",
    "def pig_latin(word):\n",
    "    \"\"\"\n",
    "    Return given 'word' translated into Pig Latin\n",
    "    \n",
    "    >>> pig_latin(\"software\")\n",
    "    'oftwaresay'\n",
    "    \"\"\"\n",
    "    print(word[2:], word[0:2], \"ay\", sep='') # I'll assume every word to start with two consonants then have a vowel, based on the instructions.\n",
    "\n",
    "pig_latin(word)\n",
    "\n",
    "# Running doctests in Jupyter notebook:\n",
    "# If you'd like to actually run the doctests here, you can uncomment the lines below.\n",
    "# We use this slightly more complex method to test only the pig_latin function, without running tests on any other functions that may be in this notebook.\n",
    "# If all tests pass, you will see no output (you can change that by setting verbose to True) \n",
    "\n",
    "#import doctest\n",
    "#doctest.run_docstring_examples(pig_latin, globals(), verbose=False)"
   ]
  },
  {
   "cell_type": "markdown",
   "metadata": {},
   "source": [
    "### Chapter 8.7\n",
    "Encapsulate the character counting code in a fruitful function named `count` that accepts the string and the letter as arguments and returns the count."
   ]
  },
  {
   "cell_type": "code",
   "execution_count": 32,
   "metadata": {},
   "outputs": [
    {
     "name": "stdout",
     "output_type": "stream",
     "text": [
      "2\n"
     ]
    }
   ],
   "source": [
    "def count(word, search_letter):\n",
    "    count = 0\n",
    "    for letter in word:\n",
    "        if letter == search_letter:\n",
    "            count = count + 1\n",
    "    print(count)\n",
    "    \n",
    "count(\"apple\", \"p\")"
   ]
  },
  {
   "cell_type": "markdown",
   "metadata": {},
   "source": [
    "### Exercise 8.1\n",
    "Skim the documentation of the Python [string methods](http://docs.python.org/3/library/stdtypes.html#string-methods). Play with them to make sure you understand how they work-- strip, replace, and upper/lower are particularly useful. Show us some of your experiments."
   ]
  },
  {
   "cell_type": "code",
   "execution_count": 46,
   "metadata": {},
   "outputs": [
    {
     "name": "stdout",
     "output_type": "stream",
     "text": [
      "TESTING\n",
      "blahblahimyelling\n",
      "stupidold\n",
      "pero\n"
     ]
    }
   ],
   "source": [
    "print(\"testing\".upper())\n",
    "\n",
    "print(\"BLAHBLAHIMYELLING\".lower())\n",
    "\n",
    "oldstring = \"superold\"\n",
    "print(oldstring.replace(\"uper\", \"tupid\"))\n",
    "\n",
    "print(oldstring.strip(\"duls\"))"
   ]
  },
  {
   "cell_type": "markdown",
   "metadata": {},
   "source": [
    "### Exercise 8.4  \n",
    "\n",
    "The following functions are all intended to check whether a string contains any lowercase letters, but at least some of them are wrong. For each function, describe what the function actually does (assuming that the parameter ```s``` is a string)."
   ]
  },
  {
   "cell_type": "code",
   "execution_count": 64,
   "metadata": {},
   "outputs": [],
   "source": [
    "def any_lowercase1(s):\n",
    "    for c in s:\n",
    "        if c.islower():\n",
    "            return True\n",
    "        else:\n",
    "            return False"
   ]
  },
  {
   "cell_type": "markdown",
   "metadata": {},
   "source": [
    "This function works as expected. First, the for loop will run however many times there are letters in the given string. Each time it runs, if the current character is lower-case, it will return true. However, if it gets to the end of the word and discovers no lower case letters at all, it just returns false instead."
   ]
  },
  {
   "cell_type": "markdown",
   "metadata": {},
   "source": [
    " "
   ]
  },
  {
   "cell_type": "code",
   "execution_count": 65,
   "metadata": {},
   "outputs": [],
   "source": [
    "def any_lowercase2(s):\n",
    "    for c in s:\n",
    "        if 'c'.islower():\n",
    "            return 'True'\n",
    "        else:\n",
    "            return 'False'"
   ]
  },
  {
   "cell_type": "markdown",
   "metadata": {},
   "source": [
    "This function doesn't work as intended. While it's similar to the function above, instead of evaluating the current letter for \"lower-caseness\", it evaluates the string \"c\", which is always lower-case."
   ]
  },
  {
   "cell_type": "markdown",
   "metadata": {},
   "source": [
    " "
   ]
  },
  {
   "cell_type": "code",
   "execution_count": 66,
   "metadata": {},
   "outputs": [],
   "source": [
    "def any_lowercase3(s):\n",
    "    for c in s:\n",
    "        flag = c.islower()\n",
    "    return flag"
   ]
  },
  {
   "cell_type": "markdown",
   "metadata": {},
   "source": [
    "This function doesn't work as intended. For each character c in the string s, c is tested for it's \"lower-caseness.\" If it is lower case, islower() returns True. The loop then moves on to the next c. However, because it then \"writes over\" flag, the last letter in the string is the only one that ends up mattering: if it's upper-case, the function returns False, but if it's lower-case, the function returns True."
   ]
  },
  {
   "cell_type": "markdown",
   "metadata": {},
   "source": [
    "  "
   ]
  },
  {
   "cell_type": "code",
   "execution_count": 76,
   "metadata": {},
   "outputs": [],
   "source": [
    "def any_lowercase4(s):\n",
    "    flag = False\n",
    "    for c in s:\n",
    "        flag = flag or c.islower()\n",
    "    return flag"
   ]
  },
  {
   "cell_type": "markdown",
   "metadata": {},
   "source": [
    "This function works as expected. The first letter runs through the function. If it's lower-case, flag is set to True. If it's upper-case, flag continues to be false. Then, the function goes to the second letter. If the second letter is lower case, flag is set to True. However, if it's upper case, flag is set to True because it was true the last time. Basically, it looks for a lower-case letter, and the first time there is one, flag is permanently set to true. In the end, because of this, the function returns correctly."
   ]
  },
  {
   "cell_type": "markdown",
   "metadata": {},
   "source": [
    " "
   ]
  },
  {
   "cell_type": "code",
   "execution_count": 78,
   "metadata": {},
   "outputs": [
    {
     "data": {
      "text/plain": [
       "False"
      ]
     },
     "execution_count": 78,
     "metadata": {},
     "output_type": "execute_result"
    }
   ],
   "source": [
    "def any_lowercase5(s):\n",
    "    for c in s:\n",
    "        if not c.islower():\n",
    "            return False\n",
    "    return True\n",
    "\n",
    "any_lowercase5(\"blAh\")"
   ]
  },
  {
   "cell_type": "markdown",
   "metadata": {},
   "source": [
    "This function does not work as intended. Because the line that says \"return False\" is within the if statement, the function finishes running anytime \"return False\" is triggered. That means that unless *all* the letters in the string are lower case, the function will return False."
   ]
  },
  {
   "cell_type": "markdown",
   "metadata": {},
   "source": [
    " "
   ]
  },
  {
   "cell_type": "markdown",
   "metadata": {},
   "source": [
    "## [Chapter 10.1 - 10.6](http://www.greenteapress.com/thinkpython2/html/thinkpython2011.html)\n",
    "\n",
    "You may want to review [state diagrams in Chapter 2](http://www.greenteapress.com/thinkpython2/html/thinkpython2003.html#toc13).\n",
    "\n"
   ]
  },
  {
   "cell_type": "markdown",
   "metadata": {},
   "source": [
    "**Quick check:** What type of items can be placed in a list?"
   ]
  },
  {
   "cell_type": "markdown",
   "metadata": {},
   "source": [
    "Any type of item can be placed in a list! This includes integers, floats, doubles, strings, more lists, you name it!"
   ]
  },
  {
   "cell_type": "markdown",
   "metadata": {},
   "source": [
    "**Quick check:** Give at least one similarity and one difference between lists and strings."
   ]
  },
  {
   "cell_type": "markdown",
   "metadata": {},
   "source": [
    "Lists and strings both hold a bunch of values, but strings can only hold a bunch of characters, whereas a list can hold a bunch of anythings. Oh, also, lists can be changed but strings can't once the script starts running."
   ]
  },
  {
   "cell_type": "markdown",
   "metadata": {},
   "source": [
    "### Exercise 10.4  \n",
    "Write a function called `middle` that takes a list and returns a new list that contains all but the first and last elements. So `middle([1,2,3,4])` should return `[2,3]`."
   ]
  },
  {
   "cell_type": "code",
   "execution_count": 5,
   "metadata": {},
   "outputs": [
    {
     "data": {
      "text/plain": [
       "[7, 2, 3, 4, 'pineapple']"
      ]
     },
     "execution_count": 5,
     "metadata": {},
     "output_type": "execute_result"
    }
   ],
   "source": [
    "def middle(t):\n",
    "    \"\"\"Return all but the first and last elements of list t.\n",
    "    \n",
    "    >>> middle([1, 2, 3, 4])\n",
    "    [2, 3]\n",
    "    \"\"\"\n",
    "    j = len(t) - 1\n",
    "    \n",
    "    new_t = t[1:j]\n",
    "    \n",
    "    return new_t\n",
    "\n",
    "middle([1,7, 2,3,4, \"pineapple\", \"apple\"])\n",
    "\n",
    "#import doctest\n",
    "#doctest.run_docstring_examples(middle, globals())"
   ]
  },
  {
   "cell_type": "markdown",
   "metadata": {},
   "source": [
    "### Exercise\n",
    "\n",
    "Write a Python function named `average` that takes a list of numbers and returns their arithmetic mean. Include at least one unit test."
   ]
  },
  {
   "cell_type": "code",
   "execution_count": 121,
   "metadata": {},
   "outputs": [
    {
     "name": "stdout",
     "output_type": "stream",
     "text": [
      "14.457142857142857\n",
      "Aborting, not all elements are ints.\n",
      "None\n"
     ]
    }
   ],
   "source": [
    "def average(list_of_nums):\n",
    "    count = 0\n",
    "    for i in list_of_nums:\n",
    "        if type(i) != str:\n",
    "            count = count + i\n",
    "        else:\n",
    "            print(\"Aborting, not all elements are ints.\")\n",
    "            return\n",
    "    count = count / len(list_of_nums)\n",
    "    return count\n",
    "        \n",
    "print(average([5,2.7,4,5,7,32.5,45]))\n",
    "print(average([5,2.7,4,5,\"lima oscar sierra echo romeo\", 7,32.5,45]))"
   ]
  },
  {
   "cell_type": "markdown",
   "metadata": {},
   "source": [
    "# Supplementary Reading\n",
    "Read [Holding a Program in One's Head](http://paulgraham.com/head.html). _Note: This 2007 piece has useful insights about programming but refers to the programmer throughout as “he” - please mentally replace with “they” or your favorite gender-nonspecific pronoun._\n",
    "\n",
    "From the list of bullet points:\n",
    "\n",
    "1\\. Is there one that you already apply to any activities in your life? Name the bullet point, and describe the area where you apply it."
   ]
  },
  {
   "cell_type": "markdown",
   "metadata": {},
   "source": [
    "I already tend to work on projects that interest me in long, uninterrupted bursts. Like this essay describes, with my projects that include hardware, manufacturing, and software, it's a lot easier for me to remember small details for many hours at a time than for me to recall these details for another half-hour work session."
   ]
  },
  {
   "cell_type": "markdown",
   "metadata": {},
   "source": [
    "2\\. Is there a point that you haven't applied but would like to?"
   ]
  },
  {
   "cell_type": "markdown",
   "metadata": {},
   "source": [
    "In ModSim, I often found it difficult not to \"share ownership\" of code. Because my partner and I would both need to understand the whole program, it was often hard to stop having both of us edit at the same time. I'd like to see if I can apply suggestion #7 more in this class!"
   ]
  },
  {
   "cell_type": "markdown",
   "metadata": {},
   "source": [
    "3\\. Is there a point that you don't believe in, don't believe can apply in this course, or doesn't make sense to you? If so, name the bullet point and briefly describe why."
   ]
  },
  {
   "cell_type": "markdown",
   "metadata": {},
   "source": [
    "I'm not sure I fully understand rewriting the program over and over. I see why it's suggested in this essay, but I'm not sure it would always be helpful to do so. Maybe this is true for large programs (that I haven't written yet). I won't, however, discount this point yet, because I just haven't done enough programming to do so."
   ]
  },
  {
   "cell_type": "markdown",
   "metadata": {},
   "source": [
    "## Time check\n",
    "Think about how long you spent working on this Reading Journal - remember to avoid spending too much time in one sitting?"
   ]
  },
  {
   "cell_type": "markdown",
   "metadata": {},
   "source": [
    "I've spent about 2.5 hours on this Reading Journal."
   ]
  },
  {
   "cell_type": "markdown",
   "metadata": {},
   "source": [
    "## Getting unstuck\n",
    "\n",
    "If you have Python questions or run into problems while completing the reading, you should post them to the course discussion forum instead so you can get a quick response before your journal is submitted."
   ]
  },
  {
   "cell_type": "markdown",
   "metadata": {},
   "source": []
  },
  {
   "cell_type": "markdown",
   "metadata": {},
   "source": [
    " "
   ]
  }
 ],
 "metadata": {
  "anaconda-cloud": {},
  "kernelspec": {
   "display_name": "Python 3",
   "language": "python",
   "name": "python3"
  },
  "language_info": {
   "codemirror_mode": {
    "name": "ipython",
    "version": 3
   },
   "file_extension": ".py",
   "mimetype": "text/x-python",
   "name": "python",
   "nbconvert_exporter": "python",
   "pygments_lexer": "ipython3",
   "version": "3.7.6"
  }
 },
 "nbformat": 4,
 "nbformat_minor": 1
}
