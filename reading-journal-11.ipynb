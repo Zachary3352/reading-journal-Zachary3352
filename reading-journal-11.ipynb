{
 "cells": [
  {
   "cell_type": "markdown",
   "metadata": {},
   "source": [
    "# Day 11 Reading Journal\n",
    "\n",
    "Reading:\n",
    " - _Ethics of Text Mining_. Please read the highlighted sections from the PDF posted on Canvas. The entire chapter is also [available online](https://www.sciencedirect.com/science/article/pii/B9781843347491000032) (without highlights) \n",
    " - _Think Python_ [Chapter 14.1-14.4](http://www.greenteapress.com/thinkpython2/html/thinkpython2015.html)"
   ]
  },
  {
   "cell_type": "markdown",
   "metadata": {},
   "source": [
    "## If You Find Yourself in a Hole, Stop Digging: Legal and Ethical Issues of Text/Data Mining in Research\n",
    "\n",
    "We'll discuss this reading more in class next time. For now, we'd like you to consider the following questions as you read:\n",
    "\n",
    "Section 3.2.2 discusses the potential conflict between protecting personally identifiable information (PII) and the desire to analyze large data sets using \"Big Data\" techniques. The PII principles and conflicts are summarized in the table below.\n",
    "\n",
    "| Principle | PII protection rationale | Incompatibility with \"Big Data\" analysis |\n",
    "| --------- | ------------------------ | ---------------------------------------- |\n",
    "| Collection Limitation | There should be limits to the collection of PII, it should be obtained by lawfully and fairly and, ideally, with the knowledge/consent of the data subject | The larger the data collection, the better the potential for identifying interesting correlations |\n",
    "| Data Quality | PII should be relevant to the purposes for which it is to be used, and should be accurate, complete and up-to-date enough for those purposes | “Messy data” is fine, it’s not clear what is relevant until its analysed, and even inaccurate or incomplete data can be useful |\n",
    "| Purpose Specification | purposes for which PII are collected should be specified at the time of data collection. Subsequent use should be limited to those purposes or such others compatible with those purposes and specified on each change of purpose. | Data may have been collected for a particular purpose, but analysis may indicate further unrelated and previously unknown, but valuable, purposes. Data as collected may not be obviously PII, but analysis of it may identify individuals |\n",
    "| Use Limitation | PII should not be disclosed, made available or otherwise used for unspecified purposes except with data subject consent or by authority of law. | There may be value in sharing and aggregating data that may not be apparent at the time of collection |\n",
    "| Security Safeguards | PII should be protected by reasonable security safeguards against such risks as loss or unauthorised access, destruction, use, modification or disclosure of data. | It may be unclear what security issues, if any, arise from a particular collection of data or its analysis |\n",
    "| Openness | data subjects should be able to establish the existence and nature of PII, and the main purposes of its use, and the identity and location of the data controller. | Where data is collected and analysed, it may not be obvious that it is PII, and even in circumstances where it is, the researcher may have no way of informing the data subject of its use |\n",
    "| Individual Participation | An individual should be able to be informed by a data controller whether it holds PII relating to him or her; to have the PII communicated to him or her in meaningful form and reasonable time and at reasonable cost; to be informed if the PII will not be communicated and to be able to challenge that denial, where the PII is not lawfully held to have it erased, rectified, completed or amended. | Data that is anonymous may still be utilised in ways that can cause risk/harm to an individual |\n",
    "| Accountability | A data controller should be accountable for complying with measures that give effect to the other principles | How and when might a researcher to be held accountable and for what? |\n",
    "\n",
    "\n",
    "### Exercise\n",
    "\n",
    "Choose a potential data source to analyze. You can draw from your potential MP3 project ideas or construct a hypothetical example.\n",
    "Select two of the principles above and discuss how specifically you would go about resolving the tension between protecting PII and performing desired analysis for this example data. \n"
   ]
  },
  {
   "cell_type": "markdown",
   "metadata": {},
   "source": [
    "Because I used the [UTKFace](https://susanqq.github.io/UTKFace/) dataset for my QEA project, I'll analyze it here.\n",
    "   - **Data Quality:** True, UTKFace's data isn't perfect. Although most of the faces provided are accurately defined, some are actually just objects or mislabeled entirely. In this case, all the data provided is relevant and mostly accurate, but because some bias exists in the data, I wouldn't really consider it \"complete.\"\n",
    "   - **Individual Participation:** Because the publicly available data includes none of the names of the people in the pictures, I don't believe the involved individuals would \"be able to be informed...whether [the dataset] holds PII relating to him or her.\" However, in making an age recognition model, ultimately, the data will not be seen by users, so I would consider this data non-harmful to the individuals whose face data was collected."
   ]
  },
  {
   "cell_type": "markdown",
   "metadata": {},
   "source": [
    "### Exercise\n",
    "\n",
    "Consider the \"failure modes\" of data analysis presented in Section 3.2.3.2 (overfitting, selection bias, cherry-picking, and confirmation bias).\n",
    "\n",
    "Select one of them and:\n",
    " - define it in your own words\n",
    " - describe how it might arise in the context of your MP3 project idea \n",
    " - explain what you can do to guard against it"
   ]
  },
  {
   "cell_type": "markdown",
   "metadata": {},
   "source": [
    "  - **Confirmation bias** is when a researcher subconsciously favors data that agrees with their desired research outcomes. They might, whether knowingly or not, look more into data that fits their desired outcome, and ultimately conclude this to be right without fully examining the dataset or performing the appropriate analysis.\n",
    "  - In the context of my MP3 project idea (scraping and analyzing Dining Hall meals), I might have a theory that the majority of DH meals are bad (I don't!). If I began to analyze the meals that are served, I might subconsciously begin to annotate meals most people like as bad, just to prove my point.\n",
    "  - To guard against confirmation bias, specifically in my project, I can send out a survey asking people whether specific meals the DH serves are good or bad. Rather than using my personal opinions, using more varied data will help my research outcome be more objective."
   ]
  },
  {
   "cell_type": "markdown",
   "metadata": {},
   "source": [
    "## [Chapter 14.1-14.4](http://www.greenteapress.com/thinkpython2/html/thinkpython2015.html)\n",
    "\n",
    "Note: You've already seen the string formatting information in Chapter 14.3. The website [pyformat.info](https://pyformat.info/) is a great quick reference with many examples. \n",
    "\n",
    "\n",
    "### Exercise\n",
    "\n",
    "The [os module](https://docs.python.org/3/library/os.html) provides a function called [walk](https://docs.python.org/3/library/os.html#os.walk) that is similar to the `walk` function written in Chapter 14.4 but more versatile. \n",
    "\n",
    "Read the documentation for `os.walk` and use it to write a function that takes a directory and prints the names of the files in that directory and its subdirectories. After trying on your own you can reference [Allen's solution](http://thinkpython2.com/code/walk.py)."
   ]
  },
  {
   "cell_type": "code",
   "execution_count": 86,
   "metadata": {},
   "outputs": [
    {
     "name": "stdout",
     "output_type": "stream",
     "text": [
      "D:/Documents/Utilities/Dimmer_v1.0 ['This is a folder!', 'This is also a folder!'] ['Dimmer.exe', 'Dimmer.xml', 'Dimmer_Readme.txt']\n",
      "D:/Documents/Utilities/Dimmer_v1.0\\This is a folder! [] []\n",
      "D:/Documents/Utilities/Dimmer_v1.0\\This is also a folder! [] []\n"
     ]
    }
   ],
   "source": [
    "import os\n",
    "\n",
    "def print_files(directory):\n",
    "    #print(os.getcwd())\n",
    "    if os.path.exists(directory) == False:\n",
    "        print(\"Directory does not exist!\")\n",
    "    files = os.walk(directory)\n",
    "    for dirpath, dirname, filename in files:\n",
    "        print(dirpath, dirname, filename)\n",
    "    \n",
    "print_files(\"D:/Documents/Utilities/Dimmer_v1.0\")"
   ]
  },
  {
   "cell_type": "markdown",
   "metadata": {
    "is_question": true,
    "problem": "Exercise 15.1"
   },
   "source": [
    "### Exercise\n",
    "\n",
    "Write a function called `sed` that takes as arguments a pattern string, a replacement string, and two filenames.\n",
    "It should read the first file and write the contents into the second file (creating it if necessary). If the pattern string appears anywhere in the first file, it should be replaced with the replacement string when written into the second file.\n",
    "\n",
    "_Note_: Be careful as you write and test this function not to overwrite files you care about!\n",
    "\n",
    "After trying on your own you can reference [Allen's solution](http://thinkpython2.com/code/sed.py). You do not need to handle Exceptions at this point."
   ]
  },
  {
   "cell_type": "code",
   "execution_count": 57,
   "metadata": {
    "solution": "Exercise 15.1"
   },
   "outputs": [
    {
     "name": "stdout",
     "output_type": "stream",
     "text": [
      "o\n",
      "o\n",
      "o\n"
     ]
    }
   ],
   "source": [
    "def sed(pattern, replacement, src_fn, dest_fn):\n",
    "    source = open(src_fn, \"r\").read()\n",
    "    #destination = open(dest_fn, \"w\")\n",
    "    for character in range(len(source)):\n",
    "        current_char = source[character]\n",
    "        if current_char == pattern[1]:\n",
    "            print(current_char)\n",
    "#             print(current_char)\n",
    "#             print(\"   \", pattern[check_char])\n",
    "        \n",
    "sed(\"John\", \"smith\", \"test1.txt\", \"test2.txt\") # I've spent too long already on this. I'll return to it later, and I'm sure it'll be easier then."
   ]
  }
 ],
 "metadata": {
  "kernelspec": {
   "display_name": "Python 3",
   "language": "python",
   "name": "python3"
  },
  "language_info": {
   "codemirror_mode": {
    "name": "ipython",
    "version": 3
   },
   "file_extension": ".py",
   "mimetype": "text/x-python",
   "name": "python",
   "nbconvert_exporter": "python",
   "pygments_lexer": "ipython3",
   "version": "3.7.6"
  }
 },
 "nbformat": 4,
 "nbformat_minor": 1
}
