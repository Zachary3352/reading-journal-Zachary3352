{
 "cells": [
  {
   "cell_type": "markdown",
   "metadata": {},
   "source": [
    "# Day 4 Reading Journal\n",
    "\n",
    "This journal includes several required exercises, but it is meant to encourage active reading more generally.  You should use the journal to take detailed notes, catalog questions, and explore the content from Think Python deeply.\n",
    "\n",
    "Reading: \n",
    " - *Think Python* [Chapter 10](http://www.greenteapress.com/thinkpython2/html/thinkpython2011.html)\n",
    " - [Linux at Olin](https://sd2020spring.github.io/files/notes/linux.pdf) (PDF) through 2.10"
   ]
  },
  {
   "cell_type": "markdown",
   "metadata": {},
   "source": [
    "## [Chapter 10](http://www.greenteapress.com/thinkpython2/html/thinkpython2011.html)\n",
    "\n",
    "You may want to review [state diagrams in Chapter 2](http://greenteapress.com/thinkpython2/html/thinkpython2003.html). [Python Tutor](http://pythontutor.com/) is also helpful for visualizing the state of your program.\n",
    "\n"
   ]
  },
  {
   "cell_type": "markdown",
   "metadata": {},
   "source": [
    "### Exercise 10.4 \n",
    "Write a function called `chop` that takes a list, modifies it by removing the first and last elements, and returns `None`.\n",
    "\n",
    "What is the difference between `middle` (that you wrote in RJ3) and `chop`? Sketch out the program state or take a look at each in Python Tutor and answer the question in the Markdown cell below."
   ]
  },
  {
   "cell_type": "code",
   "execution_count": 5,
   "metadata": {},
   "outputs": [
    {
     "name": "stdout",
     "output_type": "stream",
     "text": [
      "[6, 88, 2, 3, 4, 565]\n"
     ]
    }
   ],
   "source": [
    "def chop(list_to_chop):\n",
    "    j = len(list_to_chop) - 1\n",
    "    \n",
    "    print(list_to_chop[1:j])\n",
    "    return None\n",
    "        \n",
    "chop([3,6,88,2,3,4,565,4])"
   ]
  },
  {
   "cell_type": "markdown",
   "metadata": {},
   "source": [
    "`Chop` doesn't make a new list to display (it just prints part of the original list), whereas `middle` does create a new list."
   ]
  },
  {
   "cell_type": "markdown",
   "metadata": {},
   "source": [
    "### Exercise 10.6 \n",
    "Two words are anagrams if you can rearrange the letters from one to spell the other. Write a function called `is_anagram` that takes two strings and returns `True` if they are anagrams.\n",
    "\n",
    "*Hint*: There is a difficult way to do this and an easy(ier) way. The difficult way is to test whether it's possible to rearrange the first word into the second. The easy way is to test whether it's possible to rearrange both words into a third string (which might or might not be a word). Is there a rule for how to arrange letters, that it's easy to arrange any string into?"
   ]
  },
  {
   "cell_type": "code",
   "execution_count": 34,
   "metadata": {},
   "outputs": [
    {
     "name": "stdout",
     "output_type": "stream",
     "text": [
      "True\n",
      "False\n"
     ]
    }
   ],
   "source": [
    "def is_anagram(word_1, word_2):\n",
    "    \n",
    "    word_1_list = []\n",
    "    word_2_list = []\n",
    "    \n",
    "    for i in range(len(word_1)):\n",
    "        word_1_list.append(word_1[i])\n",
    "        \n",
    "    for j in range(len(word_2)):\n",
    "        word_2_list.append(word_2[j])\n",
    "    \n",
    "    word_1_list.sort()\n",
    "    word_2_list.sort()\n",
    "    \n",
    "    if word_1_list == word_2_list:\n",
    "        return True\n",
    "    else:\n",
    "        return False\n",
    "    \n",
    "    print(word_1_list)\n",
    "    print(word_2_list)\n",
    "    \n",
    "print(is_anagram(\"boat\",\"toab\"))\n",
    "print(is_anagram(\"a;lksdj\", \"fklsdlkjf\"))"
   ]
  },
  {
   "cell_type": "markdown",
   "metadata": {},
   "source": [
    "## Linux at Olin\n",
    "\n",
    "What shortcuts can you use to save keystrokes and be more efficient at the command line?"
   ]
  },
  {
   "cell_type": "markdown",
   "metadata": {},
   "source": [
    "There are many, but here are a few:\n",
    "* `mv` to move and rename directories and files\n",
    "* `cp` to copy files\n",
    "* `mkdir` to make a new directory (folder) somewhere\n",
    "* `sudo` to run a command as superuser\n",
    "* `cd` to change the *C*urrent *D*irectory\n",
    "* `ls` to list the files in the current directory\n",
    "* `tab` key to autofill a filename\n",
    "* some command `-y` to answer \"yes\" to all y/n prompts in that command\n",
    "* `wget` to download files\n",
    "* `grep` to search within a text file\n",
    "\n",
    "Note: I used this website: https://www.ubuntupit.com/the-50-best-linux-commands-to-run-in-the-terminal/ to remember that some of these commands exist, but I didn't put any commands in the list above that I didn't either already know or learn from *Linux at Olin*."
   ]
  },
  {
   "cell_type": "markdown",
   "metadata": {},
   "source": [
    "How can you \"undo\" the ```rm``` command and get your file back?"
   ]
  },
  {
   "cell_type": "markdown",
   "metadata": {},
   "source": [
    "By default, you can't."
   ]
  },
  {
   "cell_type": "markdown",
   "metadata": {},
   "source": [
    "How many times is Montgomery mentioned in *The Island of Dr. Moreau*?"
   ]
  },
  {
   "cell_type": "markdown",
   "metadata": {},
   "source": [
    "Montgomery is mentioned 204 times in the book, 205 including the table of contents (grep only finds 202 of the instances because the other three are likely split between lines, which grep doesn't support). I found the true answer by corroborating with `CTRL+F`."
   ]
  },
  {
   "cell_type": "markdown",
   "metadata": {
    "collapsed": true
   },
   "source": [
    "## Quick poll\n",
    "Which one of these statements describes the amount of time that you think it took you to complete the exercises you submitted in this Reading Journal?\n",
    "\n",
    "(1) finished before 45 minutes\n",
    "\n",
    "(2) about an hour\n",
    "\n",
    "(3) approximately 2 hours\n",
    "\n",
    "(4) over 2 hours by a little\n",
    "\n",
    "(5) over 2 hours by a lot\n"
   ]
  },
  {
   "cell_type": "markdown",
   "metadata": {},
   "source": [
    "(2), about an hour"
   ]
  }
 ],
 "metadata": {
  "anaconda-cloud": {},
  "kernelspec": {
   "display_name": "Python 3",
   "language": "python",
   "name": "python3"
  },
  "language_info": {
   "codemirror_mode": {
    "name": "ipython",
    "version": 3
   },
   "file_extension": ".py",
   "mimetype": "text/x-python",
   "name": "python",
   "nbconvert_exporter": "python",
   "pygments_lexer": "ipython3",
   "version": "3.7.6"
  }
 },
 "nbformat": 4,
 "nbformat_minor": 1
}
