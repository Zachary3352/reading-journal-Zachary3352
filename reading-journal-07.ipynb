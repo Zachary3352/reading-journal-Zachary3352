{
 "cells": [
  {
   "cell_type": "markdown",
   "metadata": {},
   "source": [
    "# Reading Journal 7\n",
    "\n",
    "Reading: \n",
    " - *Think Python*, [Chapter 11.1-11.5](http://www.greenteapress.com/thinkpython/html/thinkpython012.html), [Chapter 12.1-12.7](http://www.greenteapress.com/thinkpython2/html/thinkpython2013.html)\n",
    " - [5 Whys](https://en.wikipedia.org/wiki/5_Whys), Introduction and Examples; and [An Introduction to 5-why](http://www.bulsuk.com/2009/03/5-why-finding-root-causes.html)"
   ]
  },
  {
   "cell_type": "markdown",
   "metadata": {},
   "source": [
    "## [Chapter 11](http://www.greenteapress.com/thinkpython/html/thinkpython012.html)\n"
   ]
  },
  {
   "cell_type": "markdown",
   "metadata": {},
   "source": [
    "**Quick check:** In about one sentence using your own words, what is a dictionary?"
   ]
  },
  {
   "cell_type": "markdown",
   "metadata": {},
   "source": [
    "A \"dictionary\" in Python contains a bunch of \"keys\" that map to different values (where the values can be any type)."
   ]
  },
  {
   "cell_type": "markdown",
   "metadata": {},
   "source": [
    " ### Exercise 11.2  \n",
    "\n",
    "Dictionaries have a method called [`get`](https://docs.python.org/3/library/stdtypes.html#mapping-types-dict) that takes a key and a default value. If the key appears in the dictionary, `get` returns the corresponding value; otherwise it returns the default value. For example:\n",
    "\n",
    "```\n",
    ">>> h = histogram('a')\n",
    ">>> print(h)\n",
    "{'a': 1}\n",
    ">>> h.get('a', 0)\n",
    "1\n",
    ">>> h.get('b', 0)\n",
    "0\n",
    "```\n",
    "\n",
    "Use `get` to rewrite the `histogram` function below more concisely. You should be able to eliminate the `if` statement. Add unit tests (docstring examples) for your histogram implementation."
   ]
  },
  {
   "cell_type": "code",
   "execution_count": 41,
   "metadata": {},
   "outputs": [
    {
     "name": "stdout",
     "output_type": "stream",
     "text": [
      "Finding tests in NoName\n",
      "Trying:\n",
      "    histogram(\"fleebaggg\")\n",
      "Expecting:\n",
      "    {'f': 1, 'l': 1, 'e': 2, 'b': 1, 'a': 1, 'g': 3}\n",
      "ok\n"
     ]
    }
   ],
   "source": [
    "import doctest\n",
    "\n",
    "def histogram(s):\n",
    "    \"\"\"Return a dictionary that counts occurrences of each character in s.\n",
    "    \n",
    "    Examples:\n",
    "    \n",
    "    >>> histogram(\"fleebaggg\")\n",
    "    {'f': 1, 'l': 1, 'e': 2, 'b': 1, 'a': 1, 'g': 3}\n",
    "    \"\"\"\n",
    "    d = dict()\n",
    "\n",
    "    for c in s:\n",
    "        d[c] = d.get(c, 0) + 1\n",
    "        \n",
    "    return d\n",
    "\n",
    "doctest.run_docstring_examples(histogram, globals(), verbose=True)"
   ]
  },
  {
   "cell_type": "markdown",
   "metadata": {},
   "source": [
    " "
   ]
  },
  {
   "cell_type": "markdown",
   "metadata": {
    "is_question": true,
    "problem": "Exercise 11.4"
   },
   "source": [
    "### Exercise 11.4  \n",
    "\n",
    "Modify `reverse_lookup` so that it builds and returns a list of all keys that map to `v`, or an empty list if there are none. Add unit tests for your implementation."
   ]
  },
  {
   "cell_type": "code",
   "execution_count": 51,
   "metadata": {
    "solution": "Exercise 11.4"
   },
   "outputs": [
    {
     "name": "stdout",
     "output_type": "stream",
     "text": [
      "Finding tests in NoName\n",
      "Trying:\n",
      "    reverse_lookup({'a': 5, 'b': 3, 'c': 1, 'd': 3}, 6)\n",
      "Expecting:\n",
      "    []\n",
      "ok\n",
      "Trying:\n",
      "    reverse_lookup({'a': 5, 'b': 3, 'c': 1, 'd': 3}, 3)\n",
      "Expecting:\n",
      "    ['b', 'd']\n",
      "ok\n"
     ]
    }
   ],
   "source": [
    "import doctest\n",
    "\n",
    "def reverse_lookup(d, v):\n",
    "    \"\"\"\n",
    "    >>> reverse_lookup({'a': 5, 'b': 3, 'c': 1, 'd': 3}, 6)\n",
    "    []\n",
    "    >>> reverse_lookup({'a': 5, 'b': 3, 'c': 1, 'd': 3}, 3)\n",
    "    ['b', 'd']\n",
    "    \"\"\"\n",
    "    v_keys = []\n",
    "    \n",
    "    for k in d:\n",
    "        if d[k] == v:\n",
    "            v_keys.append(k)\n",
    "    return v_keys\n",
    "    \n",
    "doctest.run_docstring_examples(reverse_lookup, globals(), verbose=True)"
   ]
  },
  {
   "cell_type": "markdown",
   "metadata": {},
   "source": [
    "If you'd like to learn more about errors and exceptions, you can check out the [Python tutorial](https://docs.python.org/3/tutorial/errors.html) or read ahead to [Appendix A](http://www.greenteapress.com/thinkpython2/html/thinkpython2021.html) of Think Python. If you choose to use doctest for your unit testing, it can also [deal with exceptions](https://docs.python.org/3/library/doctest.html#what-about-exceptions)."
   ]
  },
  {
   "cell_type": "markdown",
   "metadata": {},
   "source": [
    "**Quick check** What type of objects can be used as keys to a dictionary, i.e. what property must they have?"
   ]
  },
  {
   "cell_type": "markdown",
   "metadata": {},
   "source": [
    "Keys must be hashable,  and \"hashability\" means they can't be changed. If they are changed, a key might map to multiple values!"
   ]
  },
  {
   "cell_type": "markdown",
   "metadata": {},
   "source": [
    "## [Chapter 12](http://www.greenteapress.com/thinkpython2/html/thinkpython2013.html)\n",
    "\n",
    "**Quick check:** In about one sentence using your own words, what is a tuple?"
   ]
  },
  {
   "cell_type": "markdown",
   "metadata": {},
   "source": [
    "A tuple is like a list, but its contents cannot be changed."
   ]
  },
  {
   "cell_type": "markdown",
   "metadata": {
    "is_question": true,
    "problem": "Exercise 12.1"
   },
   "source": [
    "### Chapter 12.4  \n",
    "\n",
    "Many of the built-in functions use variable-length argument tuples. For example, `max` and `min` can take any number of arguments:\n",
    "\n",
    "```\n",
    ">>> max(1,2,3)\n",
    "3\n",
    "```\n",
    "\n",
    "But `sum` does not.\n",
    "\n",
    "```\n",
    ">>> sum(1, 2, 3)\n",
    "TypeError: sum expected at most 2 arguments, got 3\n",
    "```\n",
    "\n",
    "Write a function called ```sumall``` that takes any number of arguments and returns their sum. \n",
    "\n",
    "Write unit tests for your function. Do I actually need to keep saying this? Let's assume it's always a good idea :)"
   ]
  },
  {
   "cell_type": "code",
   "execution_count": 65,
   "metadata": {
    "solution": "Exercise 12.1"
   },
   "outputs": [
    {
     "name": "stdout",
     "output_type": "stream",
     "text": [
      "Finding tests in NoName\n",
      "Trying:\n",
      "    sumall(1, 2, 3, 4)\n",
      "Expecting:\n",
      "    10\n",
      "ok\n"
     ]
    }
   ],
   "source": [
    "import doctest\n",
    "\n",
    "def sumall(*args):\n",
    "    \"\"\"\n",
    "    >>> sumall(1, 2, 3, 4)\n",
    "    10\n",
    "    \"\"\"\n",
    "    return sum(args)\n",
    "\n",
    "doctest.run_docstring_examples(sumall, globals(), verbose=True)"
   ]
  },
  {
   "cell_type": "markdown",
   "metadata": {},
   "source": [
    "If you're interested in more flexible ways to pass arguments to functions, check out the [Python tutorial](https://docs.python.org/3/tutorial/controlflow.html#more-on-defining-functions). For instance, you can also use keyword arguments, which are collected into a dictionary just like `*` gathers variable numbers of positional arguments into a tuple.\n",
    "\n",
    "This pattern is very common for defining functions with complex optional behaviors in Python, and you will often see definitions like:\n",
    "\n",
    "```python\n",
    "def my_func(required_argument1, *arguments, **keywords):\n",
    "    ...\n",
    "```"
   ]
  },
  {
   "cell_type": "markdown",
   "metadata": {},
   "source": [
    "**Quick check** Give an example of when you might use each sequence type:\n",
    "\n",
    "- tuple\n",
    "\n",
    "- list\n",
    "\n",
    "- string"
   ]
  },
  {
   "cell_type": "markdown",
   "metadata": {},
   "source": [
    "A tuple can be used to pass a bunch of arguments to a function that only allows one. A list can be used when separate but mutable values must be concatenated. A string is immutable, similar to a list, and useful for submitting text as an argument, for example."
   ]
  },
  {
   "cell_type": "markdown",
   "metadata": {
    "is_question": true,
    "problem": "Exercise 12.3"
   },
   "source": [
    "### Exercise 12.1 \n",
    "\n",
    "Write a function called `most_frequent` that takes a string and prints the letters in decreasing order of frequency. Find text samples from several different languages and see how letter frequency varies between languages. Compare your results with the tables at http://en.wikipedia.org/wiki/Letter_frequencies. \n",
    "\n",
    "Allen's solution (try it on your own first): http://greenteapress.com/thinkpython2/code/most_frequent.py. "
   ]
  },
  {
   "cell_type": "code",
   "execution_count": 85,
   "metadata": {
    "solution": "Exercise 12.3"
   },
   "outputs": [
    {
     "name": "stdout",
     "output_type": "stream",
     "text": [
      "Finding tests in NoName\n",
      "Trying:\n",
      "    most_frequent(\"frrreeeeeeequuennnnntttt\")\n",
      "Expecting:\n",
      "    ['e', 'n', 't', 'r', 'u', 'f', 'q']\n",
      "**********************************************************************\n",
      "File \"__main__\", line 3, in NoName\n",
      "Failed example:\n",
      "    most_frequent(\"frrreeeeeeequuennnnntttt\")\n",
      "Exception raised:\n",
      "    Traceback (most recent call last):\n",
      "      File \"C:\\Program Files\\WindowsApps\\PythonSoftwareFoundation.Python.3.7_3.7.1776.0_x64__qbz5n2kfra8p0\\lib\\doctest.py\", line 1329, in __run\n",
      "        compileflags, 1), test.globs)\n",
      "      File \"<doctest NoName[0]>\", line 1, in <module>\n",
      "        most_frequent(\"frrreeeeeeequuennnnntttt\")\n",
      "      File \"<ipython-input-85-985db9d07aaf>\", line 12, in most_frequent\n",
      "        return sorted(d.keys(), key=get, reverse=True)\n",
      "    NameError: name 'get' is not defined\n"
     ]
    }
   ],
   "source": [
    "def most_frequent(s):\n",
    "    \"\"\"\n",
    "    >>> most_frequent(\"frrreeeeeeequuennnnntttt\")\n",
    "    ['e', 'n', 't', 'r', 'u', 'f', 'q']\n",
    "    \"\"\"    \n",
    "    t = tuple(s)\n",
    "    d = dict()\n",
    "    \n",
    "    for c in s:\n",
    "        d[c] = d.get(c, 0) + 1\n",
    "    \n",
    "    return sorted(d.keys(), k, reverse=True)\n",
    "    \n",
    "doctest.run_docstring_examples(most_frequent, globals(), verbose=True)"
   ]
  },
  {
   "cell_type": "markdown",
   "metadata": {},
   "source": [
    "## 5 Whys\n",
    "\n",
    "1. Read the [5 Whys](https://en.wikipedia.org/wiki/5_Whys), introduction and Examples.\n",
    "2. Read [An Introduction to 5-why](http://www.bulsuk.com/2009/03/5-why-finding-root-causes.html).\n",
    "3. In the space below, describe a problem you've observed or encountered outside of this class, and take it to at least two levels of why. This can be a problem that you've run into personally, or a \"broken process\" in a institution you're a part of or interact with."
   ]
  }
 ],
 "metadata": {
  "celltoolbar": "Visualize",
  "kernelspec": {
   "display_name": "Python 3",
   "language": "python",
   "name": "python3"
  },
  "language_info": {
   "codemirror_mode": {
    "name": "ipython",
    "version": 3
   },
   "file_extension": ".py",
   "mimetype": "text/x-python",
   "name": "python",
   "nbconvert_exporter": "python",
   "pygments_lexer": "ipython3",
   "version": "3.7.6"
  }
 },
 "nbformat": 4,
 "nbformat_minor": 1
}
