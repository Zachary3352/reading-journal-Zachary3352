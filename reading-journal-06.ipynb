{
 "cells": [
  {
   "cell_type": "markdown",
   "metadata": {},
   "source": [
    "# Reading Journal 6\n",
    "\n",
    "Reading:\n",
    "* Think Python [Chapter 5.8-5.13](http://www.greenteapress.com/thinkpython2/html/thinkpython2006.html), [6.5-6.10](http://www.greenteapress.com/thinkpython2/html/thinkpython2007.html)\n",
    "* [Three Questions About Each Bug You Find](http://www.multicians.org/thvv/threeq.html)"
   ]
  },
  {
   "cell_type": "markdown",
   "metadata": {},
   "source": [
    "## [Chapter 5.8 - 5.13](http://www.greenteapress.com/thinkpython2/html/thinkpython2006.html)\n",
    "\n",
    "[Python Tutor](http://pythontutor.com/) can be helpful for visualizing stack diagrams, including for recursive execution.\n",
    "\n",
    "Chapter 5 leads into Chapter 6, and all the required exercises for the *Think Python* reading are in the Chapter 6 section."
   ]
  },
  {
   "cell_type": "markdown",
   "metadata": {},
   "source": [
    "## [Chapter 6.5 - 6.10](http://www.greenteapress.com/thinkpython2/html/thinkpython2007.html)"
   ]
  },
  {
   "cell_type": "markdown",
   "metadata": {
    "is_question": true,
    "problem": "Exercise 6.4"
   },
   "source": [
    "### Exercise 6.1  \n",
    "\n",
    "Draw a stack diagram for the following program. What does the program print?\n",
    "\n",
    "(If you would like feedback on your stack diagram, add it to the repo and add a cell to the notebook that names it; or, bring it to a NINJA during hours or to class.)\n",
    "\n",
    "You can do this on paper (best) or using [Python Tutor](http://pythontutor.com/) to check your understanding"
   ]
  },
  {
   "cell_type": "code",
   "execution_count": null,
   "metadata": {
    "solution": "Exercise 6.4"
   },
   "outputs": [],
   "source": [
    "def b(z):\n",
    "    prod = a(z, z)\n",
    "    print(z, prod)\n",
    "    return prod\n",
    "\n",
    "def a(x, y):\n",
    "    x = x + 1\n",
    "    return x * y\n",
    "\n",
    "def c(x, y, z):\n",
    "    total = x + y + z\n",
    "    square = b(total)**2\n",
    "    return square\n",
    "\n",
    "x = 1\n",
    "y = x + 1\n",
    "print(c(x, y + 3, x + y))"
   ]
  },
  {
   "cell_type": "markdown",
   "metadata": {},
   "source": [
    "![Image of Yaktocat](stackdiagramrj6.jpg)"
   ]
  },
  {
   "cell_type": "markdown",
   "metadata": {
    "is_question": true,
    "problem": "Exercise 6.6"
   },
   "source": [
    "### Exercise 6.3  \n",
    "\n",
    "A palindrome is a word that is spelled the same backward and forward, like “noon” and “redivider”. Recursively, a word is a palindrome if the first and last letters are the same and the middle is a palindrome.\n",
    "\n",
    "You can use the `first`, `last`, and `middle` helper functions defined in *Think Python*, or do the string slices inside your function directly. Be sure to think about your base cases.\n",
    "    \n",
    "Write a function called `is_palindrome` that takes a string argument and returns `True` if it is a palindrome and `False` otherwise. Remember that you can use the built-in function `len` to check the length of a string.\n",
    "\n",
    "Write some unit tests for your function (e.g. using doctest) to show that it works as intended."
   ]
  },
  {
   "cell_type": "code",
   "execution_count": 84,
   "metadata": {
    "solution": "Exercise 6.6"
   },
   "outputs": [
    {
     "name": "stdout",
     "output_type": "stream",
     "text": [
      "Trying:\n",
      "    is_palindrome(\"boiling\")\n",
      "Expecting:\n",
      "    False\n",
      "ok\n",
      "Trying:\n",
      "    is_palindrome(\"racecar\")\n",
      "Expecting:\n",
      "    True\n",
      "ok\n",
      "5 items had no tests:\n",
      "    __main__\n",
      "    __main__.a\n",
      "    __main__.b\n",
      "    __main__.c\n",
      "    __main__.is_power\n",
      "1 items passed all tests:\n",
      "   2 tests in __main__.is_palindrome\n",
      "2 tests in 6 items.\n",
      "2 passed and 0 failed.\n",
      "Test passed.\n"
     ]
    }
   ],
   "source": [
    "def is_palindrome(word):\n",
    "    '''\n",
    "    >>> is_palindrome(\"boiling\")\n",
    "    False\n",
    "        \n",
    "    >>> is_palindrome(\"racecar\")\n",
    "    True\n",
    "    \n",
    "    '''\n",
    "    pal_test = 0\n",
    "    \n",
    "    for letter in range(len(word)//2):\n",
    "        #print(word[letter])\n",
    "        #print(word[len(word)-letter-1])\n",
    "        if word[letter] != word[len(word)-letter-1]:\n",
    "            pal_test = pal_test + 1\n",
    "            \n",
    "    if pal_test > 0:\n",
    "        return False\n",
    "    else:\n",
    "        return True\n",
    "    \n",
    "if __name__ == \"__main__\":\n",
    "    import doctest\n",
    "    doctest.testmod(verbose=True)\n",
    "    \n",
    "# Additional tests, run for fun:\n",
    "# print(is_palindrome(\"cotton\"))\n",
    "# print(is_palindrome(\"amanaplanacanalpanama\"))\n",
    "# print(is_palindrome(\"h\"))"
   ]
  },
  {
   "cell_type": "markdown",
   "metadata": {
    "is_question": true,
    "problem": "Exercise 6.6 challenge"
   },
   "source": [
    "### For fun (optional)\n",
    "\n",
    "Use the word list from [Chapter 9.1](http://www.greenteapress.com/thinkpython2/html/thinkpython2010.html) Exercise 1 to find all of the palindromes."
   ]
  },
  {
   "cell_type": "code",
   "execution_count": null,
   "metadata": {
    "collapsed": true,
    "solution": "Exercise 6.6 challenge"
   },
   "outputs": [],
   "source": []
  },
  {
   "cell_type": "markdown",
   "metadata": {
    "is_question": true,
    "problem": "Exercise 6.7"
   },
   "source": [
    "### Exercise 6.4  \n",
    "\n",
    "A number $a$ is a power of $b$ if it is divisible by $b$ and $a/b$ is a power of $b$. Write a function called `is_power` that takes parameters `a` and `b` and returns `True` if `a` is a power of `b`. Note: you will have to think about the base case."
   ]
  },
  {
   "cell_type": "code",
   "execution_count": 79,
   "metadata": {
    "solution": "Exercise 6.7"
   },
   "outputs": [
    {
     "name": "stdout",
     "output_type": "stream",
     "text": [
      "True\n",
      "False\n",
      "True\n"
     ]
    }
   ],
   "source": [
    "def is_power(a,b):\n",
    "    if a%b == 0:\n",
    "        if a == b:\n",
    "            return True\n",
    "        a = a/b\n",
    "        if is_power(a,b):\n",
    "            return True\n",
    "        else:\n",
    "            return False\n",
    "    else:\n",
    "        return False\n",
    "    \n",
    "print(is_power(9,3))\n",
    "print(is_power(10,2))\n",
    "print(is_power(16,4))"
   ]
  },
  {
   "cell_type": "markdown",
   "metadata": {
    "is_question": true,
    "problem": "Exercise 6.8"
   },
   "source": [
    "### Exercise 6.5  \n",
    "\n",
    "The greatest common divisor (GCD) of $a$ and $b$ is the largest number that divides both of them with no remainder.\n",
    "\n",
    "One way to find the GCD of two numbers is based on the observation that if $r$ is the remainder when $a$ is divided by $b$, then $\\textrm{gcd}(a, b) = \\textrm{gcd}(b, r)$. As a base case, we can use $\\textrm{gcd}(a, 0) = a$.\n",
    "\n",
    "Write a function called `gcd` that takes parameters `a` and `b` and returns their greatest common divisor."
   ]
  },
  {
   "cell_type": "code",
   "execution_count": 13,
   "metadata": {
    "problem": "Exercise 6.8"
   },
   "outputs": [],
   "source": [
    "def gcd(a,b):\n",
    "    if b == 0:\n",
    "        return a\n",
    "    else:\n",
    "        r = a%b\n",
    "        if r == 0:\n",
    "            return b # For some reason I can't figure out, returning b doesn't stop the function from running.\n",
    "        gcd(b,r)\n",
    "    \n",
    "gcd(25, 10)"
   ]
  },
  {
   "cell_type": "markdown",
   "metadata": {},
   "source": [
    "## Three Questions Why\n",
    "\n",
    "Read [Three Questions About Each Bug You Find](http://www.multicians.org/thvv/threeq.html)\n",
    "\n",
    "Keep your eyes open for an area of difficulty involving software development. This can a bug in code you write, difficulty with the tools involved in software development, or difficulty setting up your environment.\n",
    "\n",
    "When you find a bug, ask the \"three questions\":\n",
    "\n",
    "1. Is this mistake somewhere else also?\n",
    "2. What next bug is hidden behind this one?\n",
    "3. What should I do to prevent bugs like this?\n",
    "\n",
    "In the space below, describe a time you encountered a bug and some of your process as you worked to resolve it. We'll ask about this again in the next reading journal after you've read this article - try to apply the \"three questions\" as you work."
   ]
  },
  {
   "cell_type": "markdown",
   "metadata": {},
   "source": [
    "While I don't have a specific example of a time I encountered one bug, I often have small bugs to work out in my code. I usually ask a variant of the first question: Have I fixed this mistake somewhere else also (for example, using `range(len(\"\"))` in a for loop instead of `len(\"\")`)? I don't usually get too far without the second question being answered, but my answer to the third question is usually to go through the function \"on paper\" until I discover the bug, then try to remember that fix for next time."
   ]
  }
 ],
 "metadata": {
  "kernelspec": {
   "display_name": "Python 3",
   "language": "python",
   "name": "python3"
  },
  "language_info": {
   "codemirror_mode": {
    "name": "ipython",
    "version": 3
   },
   "file_extension": ".py",
   "mimetype": "text/x-python",
   "name": "python",
   "nbconvert_exporter": "python",
   "pygments_lexer": "ipython3",
   "version": "3.7.6"
  }
 },
 "nbformat": 4,
 "nbformat_minor": 1
}
