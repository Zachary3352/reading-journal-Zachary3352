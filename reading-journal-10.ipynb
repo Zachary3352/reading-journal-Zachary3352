{
 "cells": [
  {
   "cell_type": "markdown",
   "metadata": {},
   "source": [
    "# Day 10 Reading Journal\n",
    "\n",
    "Review _Think Python_, [Chapter 15](http://www.greenteapress.com/thinkpython2/html/thinkpython2016.html), [16](http://www.greenteapress.com/thinkpython2/html/thinkpython2017.html), [17](http://www.greenteapress.com/thinkpython2/html/thinkpython2018.html)"
   ]
  },
  {
   "cell_type": "markdown",
   "metadata": {},
   "source": [
    "### Terminology\n",
    "\n",
    "You should be familiar with the following list of terms and concepts. If any of them are unclear to you, re-read, ask, write a definition in your own words, and try an example if appropriate.\n",
    "\n",
    " - class\n",
    " - object\n",
    " - instance\n",
    " - attribute\n",
    " - method\n",
    " - shallow vs deep copying\n",
    " - pure functions vs modifiers\n",
    " - initializing object instances\n",
    " "
   ]
  },
  {
   "cell_type": "markdown",
   "metadata": {},
   "source": [
    "All terms listed here are familiar and clear!"
   ]
  },
  {
   "cell_type": "markdown",
   "metadata": {},
   "source": [
    "### Chapter 17 exercise 2 \n",
    "\n",
    "This exercise is a cautionary tale about one of the most common, and difficult to find, errors in Python. Write a definition for a class named `Kangaroo` with the following methods:\n",
    "\n",
    " 1. An `__init__` method that initializes an attribute named `pouch_contents` to an empty list.\n",
    " 2. A method named `put_in_pouch` that takes an object of any type and adds it to `pouch_contents`.\n",
    " 3. A `__str__` method that returns a string representation of the `Kangaroo` object and the contents of the pouch.\n",
    "\n",
    "Test your code by creating two `Kangaroo` objects, assigning them to variables named `kanga` and `roo`, and then adding `roo` to the contents of `kanga`’s pouch.\n",
    "\n",
    "Download http://thinkpython2.com/code/BadKangaroo.py. It contains a solution to the previous problem with one big, nasty bug. Find and fix the bug.\n",
    "\n",
    "If you get stuck, you can download http://thinkpython2.com/code/GoodKangaroo.py, which explains the problem and demonstrates a solution."
   ]
  },
  {
   "cell_type": "code",
   "execution_count": 28,
   "metadata": {},
   "outputs": [
    {
     "name": "stdout",
     "output_type": "stream",
     "text": [
      "[\"Roo's phone\"]\n",
      "[\"Roo's phone\"]\n"
     ]
    }
   ],
   "source": [
    "class Kangaroo():\n",
    "    \"\"\"Is a kangaroo, with a pouch\"\"\"\n",
    "    \n",
    "    def __init__(self, pouch_contents=[]):\n",
    "        self.pouch_contents = pouch_contents\n",
    "        \n",
    "    def put_in_pouch(self, thing):\n",
    "        self.pouch_contents.append(thing)\n",
    "        return self.pouch_contents\n",
    "    \n",
    "    def __str__(self):\n",
    "        return str(self.pouch_contents)\n",
    "    \n",
    "kanga = Kangaroo()\n",
    "roo = Kangaroo()\n",
    "\n",
    "roo.put_in_pouch(\"Roo's phone\")\n",
    "\n",
    "#kanga.put_in_pouch(roo) # Looks like I made the \"big, nasty bug.\" I wrote this block before pasting in the block below.\n",
    "\n",
    "print(roo)\n",
    "print(kanga)"
   ]
  },
  {
   "cell_type": "code",
   "execution_count": 26,
   "metadata": {},
   "outputs": [
    {
     "name": "stdout",
     "output_type": "stream",
     "text": [
      "Kanga has pouch contents:\n",
      "    'wallet'\n",
      "    'car keys'\n",
      "Roo has pouch contents:\n",
      "    'wallet'\n",
      "    'car keys'\n"
     ]
    }
   ],
   "source": [
    "## BAD KANGAROO\n",
    "class Kangaroo:\n",
    "    \"\"\"A Kangaroo is a marsupial.\"\"\"\n",
    "    \n",
    "    def __init__(self, name, contents=[]):\n",
    "        \"\"\"Initialize the pouch contents.\n",
    "\n",
    "        name: string\n",
    "        contents: initial pouch contents.\n",
    "        \"\"\"\n",
    "        self.name = name\n",
    "        self.pouch_contents = contents\n",
    "\n",
    "    def __str__(self):\n",
    "        \"\"\"Return a string representaion of this Kangaroo.\n",
    "        \"\"\"\n",
    "        t = [ self.name + ' has pouch contents:' ]\n",
    "        for obj in self.pouch_contents:\n",
    "            s = '    ' + object.__str__(obj)\n",
    "            t.append(s)\n",
    "        return '\\n'.join(t)\n",
    "\n",
    "    def put_in_pouch(self, item):\n",
    "        \"\"\"Adds a new item to the pouch contents.\n",
    "\n",
    "        item: object to be added\n",
    "        \"\"\"\n",
    "        self.pouch_contents.append(item)\n",
    "\n",
    "\n",
    "kanga = Kangaroo('Kanga')\n",
    "roo = Kangaroo('Roo')\n",
    "kanga.put_in_pouch('wallet')\n",
    "kanga.put_in_pouch('car keys')\n",
    "#kanga.put_in_pouch(roo) # Commenting out this line makes the issue clear.\n",
    "\n",
    "print(kanga)\n",
    "print(roo)"
   ]
  },
  {
   "cell_type": "code",
   "execution_count": 62,
   "metadata": {},
   "outputs": [
    {
     "name": "stdout",
     "output_type": "stream",
     "text": [
      "Kanga has pouch contents:\n",
      "    'wallet'\n",
      "    'car keys'\n",
      "Roo has pouch contents:\n",
      "    <__main__.Kangaroo object at 0x00000234664F1208>\n"
     ]
    }
   ],
   "source": [
    "## FIXED KANGAROO\n",
    "class Kangaroo:\n",
    "    \"\"\"A Kangaroo is a marsupial.\"\"\"\n",
    "    \n",
    "    def __init__(self, name, contents=[]):\n",
    "        \"\"\"Initialize the pouch contents.\n",
    "\n",
    "        name: string\n",
    "        contents: initial pouch contents.\n",
    "        \"\"\"\n",
    "        self.name = name\n",
    "        if contents != None:\n",
    "            contents = []\n",
    "        self.pouch_contents = contents\n",
    "\n",
    "    def __str__(self):\n",
    "        \"\"\"Return a string representaion of this Kangaroo.\n",
    "        \"\"\"\n",
    "        t = [ self.name + ' has pouch contents:' ]\n",
    "        # if self.pouch_contents == None:\n",
    "        for obj in self.pouch_contents:\n",
    "            s = '    ' + object.__str__(obj)\n",
    "            t.append(s)\n",
    "        return '\\n'.join(t)\n",
    "\n",
    "    def put_in_pouch(self, item):\n",
    "        \"\"\"Adds a new item to the pouch contents.\n",
    "\n",
    "        item: object to be added\n",
    "        \"\"\"\n",
    "        self.pouch_contents.append(item)\n",
    "\n",
    "\n",
    "kanga = Kangaroo('Kanga')\n",
    "roo = Kangaroo('Roo')\n",
    "kanga.put_in_pouch('wallet')\n",
    "kanga.put_in_pouch('car keys')\n",
    "#kanga.put_in_pouch(roo) # I think this line should have been written as roo.put_in_pouch(kanga). As written, this doesn't follow the assignment\n",
    "roo.put_in_pouch(kanga) # I added this line.\n",
    "\n",
    "print(kanga)\n",
    "print(roo) # After over an hour trying many different things, I couldn't get this to work properly. I don't think the solution worked as written."
   ]
  },
  {
   "cell_type": "markdown",
   "metadata": {
    "is_question": true,
    "problem": "Exercise 15.1"
   },
   "source": [
    "### Exercise\n",
    "\n",
    "We're going to take the first steps toward writing a calendar application. To keep things simple, we'll restrict ourselves to a single day for now. Paste in your `Time` class from the previous reading journal, and improve it with the methods you read about in Chapter 17 (i.e. `__init__`, `__str__`)."
   ]
  },
  {
   "cell_type": "code",
   "execution_count": 74,
   "metadata": {
    "solution": "Exercise 15.1"
   },
   "outputs": [
    {
     "name": "stdout",
     "output_type": "stream",
     "text": [
      "[10, 15, 35]\n"
     ]
    }
   ],
   "source": [
    "class Time:\n",
    "    \"\"\"Represents the time of day.\n",
    "    \n",
    "    attributes: hour, minute, second\n",
    "    \"\"\"\n",
    "    \n",
    "    def __init__(self, hour=0, minute=0, second=0):\n",
    "        self.hour = 0\n",
    "        self.minute = 0\n",
    "        self.second = 0\n",
    "        \n",
    "    def __str__(self=0, hour=0, minute=0, second=0):\n",
    "        return str([self.hour,self.minute,self.second])\n",
    "    \n",
    "john = Time()\n",
    "john.hour = 10\n",
    "john.minute = 15\n",
    "john.second = 35\n",
    "\n",
    "print(john)"
   ]
  },
  {
   "cell_type": "markdown",
   "metadata": {
    "is_question": true,
    "problem": "Exercise 15.2"
   },
   "source": [
    "### Exercise\n",
    "\n",
    "Write an `Event` class with the following attributes:\n",
    "\n",
    " - `name`  : Title for the `Event`\n",
    " - `start` : `Time` object representing the start time for the `Event`\n",
    " - `end`   : `Time` object representing the end time for the `Event`\n",
    "\n",
    "You can also augment your `Event` class with additional attributes, such as location and attendees.\n",
    "\n",
    "Write `__init__` and `__str__` methods for your `Event` class."
   ]
  },
  {
   "cell_type": "code",
   "execution_count": 96,
   "metadata": {
    "solution": "Exercise 15.2"
   },
   "outputs": [
    {
     "name": "stdout",
     "output_type": "stream",
     "text": [
      "thingy, [0, 5, 0], [0, 0, 50]\n"
     ]
    }
   ],
   "source": [
    "class Event:\n",
    "    \n",
    "    def __init__(self, name, start=Time(), end=Time()):\n",
    "        self.name = name\n",
    "        self.start = Time()\n",
    "        self.end = Time()\n",
    "        \n",
    "    def __str__(self, name=0, start=0, end=0):\n",
    "        return '%s, %s, %s' % (self.name,self.start,self.end)\n",
    "\n",
    "thingy = Event(\"thingy\")\n",
    "thingy.start.minute = 5\n",
    "thingy.end.second = 50\n",
    "\n",
    "print(thingy)"
   ]
  },
  {
   "cell_type": "markdown",
   "metadata": {
    "is_question": true,
    "problem": "Exercise 15.3"
   },
   "source": [
    "### Exercise\n",
    "\n",
    "Write a `duration` method that returns the duration of the `Event` in minutes. You can paste in your `Event` code from the previous cell and continue to develop it here."
   ]
  },
  {
   "cell_type": "code",
   "execution_count": 100,
   "metadata": {
    "solution": "Exercise 15.3"
   },
   "outputs": [
    {
     "data": {
      "text/plain": [
       "397"
      ]
     },
     "execution_count": 100,
     "metadata": {},
     "output_type": "execute_result"
    }
   ],
   "source": [
    "class Event:\n",
    "    \n",
    "    def __init__(self, name, start=Time(), end=Time()):\n",
    "        self.name = name\n",
    "        self.start = Time()\n",
    "        self.end = Time()\n",
    "        \n",
    "    def __str__(self, name=0, start=0, end=0):\n",
    "        return '%s, %s, %s' % (self.name,self.start,self.end)\n",
    "    \n",
    "thingy = Event(\"thingy\")\n",
    "\n",
    "thingy.start.hour = 3\n",
    "thingy.start.minute = 40\n",
    "thingy.start.second = 15\n",
    "\n",
    "thingy.end.hour = 10\n",
    "thingy.end.minute = 17\n",
    "thingy.end.second = 4\n",
    "\n",
    "def duration(event):\n",
    "    end_time = event.end.hour*60 + event.end.minute + event.end.second/60\n",
    "    start_time = event.start.hour*60 + event.start.minute + event.start.second/60\n",
    "    \n",
    "    return round(end_time-start_time)\n",
    "\n",
    "duration(thingy)"
   ]
  },
  {
   "cell_type": "markdown",
   "metadata": {},
   "source": [
    "### Exercise\n",
    "\n",
    "Write an `Agenda` class that contains several `Event`s for the day.\n",
    "\n",
    "**Quick check: ** How should you store `Event`s within your `Agenda` class?\n",
    "\n",
    "Your `Agenda` class should include a `print_agenda` method that prints out your schedule for the day, in chronological order.\n",
    "\n",
    "**Optional:** Include a `need_timeturner` method that returns `True` if your schedule is impossible due to time conflicts. You may want to write additional helper methods for the `Event` class to make this easier."
   ]
  },
  {
   "cell_type": "code",
   "execution_count": 109,
   "metadata": {},
   "outputs": [
    {
     "ename": "TypeError",
     "evalue": "__init__() missing 1 required positional argument: 'name'",
     "output_type": "error",
     "traceback": [
      "\u001b[1;31m---------------------------------------------------------------------------\u001b[0m",
      "\u001b[1;31mTypeError\u001b[0m                                 Traceback (most recent call last)",
      "\u001b[1;32m<ipython-input-109-c34213929544>\u001b[0m in \u001b[0;36m<module>\u001b[1;34m\u001b[0m\n\u001b[1;32m----> 1\u001b[1;33m \u001b[1;32mclass\u001b[0m \u001b[0mAgenda\u001b[0m\u001b[1;33m:\u001b[0m\u001b[1;33m\u001b[0m\u001b[1;33m\u001b[0m\u001b[0m\n\u001b[0m\u001b[0;32m      2\u001b[0m     \u001b[1;34m\"\"\"Is an agenda\"\"\"\u001b[0m\u001b[1;33m\u001b[0m\u001b[1;33m\u001b[0m\u001b[0m\n\u001b[0;32m      3\u001b[0m     \u001b[1;32mdef\u001b[0m \u001b[0m__init__\u001b[0m\u001b[1;33m(\u001b[0m\u001b[0mself\u001b[0m\u001b[1;33m,\u001b[0m \u001b[0mname\u001b[0m\u001b[1;33m,\u001b[0m \u001b[0mevent1\u001b[0m\u001b[1;33m=\u001b[0m\u001b[0mEvent\u001b[0m\u001b[1;33m(\u001b[0m\u001b[1;33m)\u001b[0m\u001b[1;33m,\u001b[0m \u001b[0mevent2\u001b[0m\u001b[1;33m=\u001b[0m\u001b[0mEvent\u001b[0m\u001b[1;33m(\u001b[0m\u001b[1;33m)\u001b[0m\u001b[1;33m,\u001b[0m \u001b[0mevent3\u001b[0m\u001b[1;33m=\u001b[0m\u001b[0mEvent\u001b[0m\u001b[1;33m(\u001b[0m\u001b[1;33m)\u001b[0m\u001b[1;33m)\u001b[0m\u001b[1;33m:\u001b[0m\u001b[1;33m\u001b[0m\u001b[1;33m\u001b[0m\u001b[0m\n\u001b[0;32m      4\u001b[0m         \u001b[0mself\u001b[0m\u001b[1;33m.\u001b[0m\u001b[0mname\u001b[0m \u001b[1;33m=\u001b[0m \u001b[0mname\u001b[0m\u001b[1;33m\u001b[0m\u001b[1;33m\u001b[0m\u001b[0m\n\u001b[0;32m      5\u001b[0m         \u001b[0mself\u001b[0m\u001b[1;33m.\u001b[0m\u001b[0mevent1\u001b[0m \u001b[1;33m=\u001b[0m \u001b[0mEvent\u001b[0m\u001b[1;33m(\u001b[0m\u001b[1;33m)\u001b[0m\u001b[1;33m\u001b[0m\u001b[1;33m\u001b[0m\u001b[0m\n",
      "\u001b[1;32m<ipython-input-109-c34213929544>\u001b[0m in \u001b[0;36mAgenda\u001b[1;34m()\u001b[0m\n\u001b[0;32m      1\u001b[0m \u001b[1;32mclass\u001b[0m \u001b[0mAgenda\u001b[0m\u001b[1;33m:\u001b[0m\u001b[1;33m\u001b[0m\u001b[1;33m\u001b[0m\u001b[0m\n\u001b[0;32m      2\u001b[0m     \u001b[1;34m\"\"\"Is an agenda\"\"\"\u001b[0m\u001b[1;33m\u001b[0m\u001b[1;33m\u001b[0m\u001b[0m\n\u001b[1;32m----> 3\u001b[1;33m     \u001b[1;32mdef\u001b[0m \u001b[0m__init__\u001b[0m\u001b[1;33m(\u001b[0m\u001b[0mself\u001b[0m\u001b[1;33m,\u001b[0m \u001b[0mname\u001b[0m\u001b[1;33m,\u001b[0m \u001b[0mevent1\u001b[0m\u001b[1;33m=\u001b[0m\u001b[0mEvent\u001b[0m\u001b[1;33m(\u001b[0m\u001b[1;33m)\u001b[0m\u001b[1;33m,\u001b[0m \u001b[0mevent2\u001b[0m\u001b[1;33m=\u001b[0m\u001b[0mEvent\u001b[0m\u001b[1;33m(\u001b[0m\u001b[1;33m)\u001b[0m\u001b[1;33m,\u001b[0m \u001b[0mevent3\u001b[0m\u001b[1;33m=\u001b[0m\u001b[0mEvent\u001b[0m\u001b[1;33m(\u001b[0m\u001b[1;33m)\u001b[0m\u001b[1;33m)\u001b[0m\u001b[1;33m:\u001b[0m\u001b[1;33m\u001b[0m\u001b[1;33m\u001b[0m\u001b[0m\n\u001b[0m\u001b[0;32m      4\u001b[0m         \u001b[0mself\u001b[0m\u001b[1;33m.\u001b[0m\u001b[0mname\u001b[0m \u001b[1;33m=\u001b[0m \u001b[0mname\u001b[0m\u001b[1;33m\u001b[0m\u001b[1;33m\u001b[0m\u001b[0m\n\u001b[0;32m      5\u001b[0m         \u001b[0mself\u001b[0m\u001b[1;33m.\u001b[0m\u001b[0mevent1\u001b[0m \u001b[1;33m=\u001b[0m \u001b[0mEvent\u001b[0m\u001b[1;33m(\u001b[0m\u001b[1;33m)\u001b[0m\u001b[1;33m\u001b[0m\u001b[1;33m\u001b[0m\u001b[0m\n",
      "\u001b[1;31mTypeError\u001b[0m: __init__() missing 1 required positional argument: 'name'"
     ]
    }
   ],
   "source": [
    "class Agenda:\n",
    "    \"\"\"Is an agenda\"\"\"\n",
    "    def __init__(self, name, event1=Event(), event2=Event(), event3=Event()):\n",
    "        self.name = name\n",
    "        self.event1 = Event()\n",
    "        self.event2 = Event()\n",
    "        self.event3 = Event()\n",
    "    \n",
    "    def print_agenda(self):\n",
    "        pass\n",
    "    \n",
    "day1_agenda = Agenda(\"test\") # This isn't working, I don't really know why. The same type of code worked fine above.\n",
    "\n",
    "print(day1_agenda.event1.start.minute)"
   ]
  },
  {
   "cell_type": "markdown",
   "metadata": {},
   "source": [
    "### Going Beyond (optional, come back to these if you have a lot of time)\n",
    "\n",
    "Some ideas for taking your application further:\n",
    " - Add people and/or places to the mix to create a scheduling assistant\n",
    " - Extend support for day-of-week or full date. A word of warning: dealing with dates and times in real applications is difficult due to the huge number of special cases (e.g. leap year). Consider using something like the Python [datetime](https://docs.python.org/3/library/datetime.html) module.\n",
    " - Use pickle or some other persistence strategy to save and load your `Agenda`."
   ]
  },
  {
   "cell_type": "code",
   "execution_count": null,
   "metadata": {
    "collapsed": true
   },
   "outputs": [],
   "source": []
  }
 ],
 "metadata": {
  "kernelspec": {
   "display_name": "Python 3",
   "language": "python",
   "name": "python3"
  },
  "language_info": {
   "codemirror_mode": {
    "name": "ipython",
    "version": 3
   },
   "file_extension": ".py",
   "mimetype": "text/x-python",
   "name": "python",
   "nbconvert_exporter": "python",
   "pygments_lexer": "ipython3",
   "version": "3.7.6"
  }
 },
 "nbformat": 4,
 "nbformat_minor": 1
}
