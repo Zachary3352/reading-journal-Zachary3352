{
 "cells": [
  {
   "cell_type": "markdown",
   "metadata": {},
   "source": [
    "# Day 13 Reading Journal\n",
    "\n",
    "Reading: \n",
    " - [How to Write a Git Commit Message](https://chris.beams.io/posts/git-commit/)\n",
    " - [Check In Early, Check In Often](https://blog.codinghorror.com/check-in-early-check-in-often/)"
   ]
  },
  {
   "cell_type": "markdown",
   "metadata": {},
   "source": [
    "## [How to Write a Git Commit Message](https://chris.beams.io/posts/git-commit/)\n",
    "\n",
    "### Exercise\n",
    "\n",
    "Choose a commit message from one of your past mini-projects (run `git log` from within the repository to see your history). Paste the commit message below (it doesn't have to be a great one, and in fact it's probably better if it has room for improvement):\n"
   ]
  },
  {
   "cell_type": "raw",
   "metadata": {},
   "source": [
    "commit [number redacted, not sure whether or not it's confidential.]\n",
    "Author: Zachary3352 <thelexingtonian1@gmail.com>\n",
    "Date:   Tue Mar 10 03:31:35 2020 -0400\n",
    "\n",
    "    Added in class slide to repo"
   ]
  },
  {
   "cell_type": "markdown",
   "metadata": {},
   "source": [
    "Using the \"seven rules of a great Git commit message\" from the reading, write a more useful version of the original commit message in the box below:"
   ]
  },
  {
   "cell_type": "raw",
   "metadata": {},
   "source": [
    "commit [number redacted, not sure whether or not it's confidential.]\n",
    "Author: Zachary3352 <thelexingtonian1@gmail.com>\n",
    "Date:   Tue Mar 10 03:31:35 2020 -0400\n",
    "\n",
    "    Add in class slide to repo\n",
    "    \n",
    "    As a result of adding my slide to the repository, I will hopefully get a better project grade!"
   ]
  },
  {
   "cell_type": "markdown",
   "metadata": {},
   "source": [
    "1. Message already didn't need a subject line\n",
    "2. Irrelevant for this commit message\n",
    "3. Already done\n",
    "4. Already done\n",
    "5. Changed \"added\" to \"add\"\n",
    "6. Irrelevant for this commit message\n",
    "7. Added a \"why\""
   ]
  },
  {
   "cell_type": "markdown",
   "metadata": {},
   "source": [
    "## [Check In Early, Check In Often](https://blog.codinghorror.com/check-in-early-check-in-often/)\n",
    "\n",
    "### Exercise\n",
    "\n",
    "What are the benefits of checking in code more often? Are there any drawbacks? Explain below."
   ]
  },
  {
   "cell_type": "markdown",
   "metadata": {},
   "source": [
    "It's beneficial to check in code often, but in a way such that commits are private at first. As the author explains, this prevents developers from breaking existing code by modifying it prematurely, but it does allow their code to \"exist\" somewhere outside of the developer's local machine, as it is modified.\n",
    "\n",
    "Periodically checking in code also allows the developer to go back to relatively recent old versions (perhaps because of bugs)."
   ]
  }
 ],
 "metadata": {
  "kernelspec": {
   "display_name": "Python 3",
   "language": "python",
   "name": "python3"
  },
  "language_info": {
   "codemirror_mode": {
    "name": "ipython",
    "version": 3
   },
   "file_extension": ".py",
   "mimetype": "text/x-python",
   "name": "python",
   "nbconvert_exporter": "python",
   "pygments_lexer": "ipython3",
   "version": "3.7.6"
  }
 },
 "nbformat": 4,
 "nbformat_minor": 1
}
